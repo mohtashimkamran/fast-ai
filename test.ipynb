{
 "cells": [
  {
   "cell_type": "code",
   "execution_count": null,
   "metadata": {},
   "outputs": [
    {
     "name": "stdout",
     "output_type": "stream",
     "text": [
      "Searching for 'dog images'\n",
      "https://www.wallpaperup.com/uploads/wallpapers/2015/09/03/798344/e5a2a103cae14869c9ccd9e418982d2f.jpg\n"
     ]
    }
   ],
   "source": [
    "from duckduckgo_search import DDGS\n",
    "from fastcore.all import *\n",
    "\n",
    "def search_images(term, max_images=30):\n",
    "    print(f\"Searching for '{term}'\")\n",
    "    with DDGS() as ddgs:\n",
    "        # generator which yields dicts with:\n",
    "        # {'title','image','thumbnail','url','height','width','source'}\n",
    "        search_results = ddgs.images(keywords=term)       \n",
    "        # grap number of max_images urls\n",
    "        image_urls = [result.get(\"image\") for result in search_results[:max_images]]   \n",
    "\n",
    "        # convert to L (functionally extended list class from fastai)\n",
    "        return L(image_urls)\n",
    "\n",
    "# example usage:\n",
    "urls = search_images(\"cat images\", max_images=10)\n",
    "print(urls[0])"
   ]
  },
  {
   "cell_type": "code",
   "execution_count": 6,
   "metadata": {},
   "outputs": [],
   "source": [
    "from fastdownload import download_url\n",
    "destination = 'dog.jpg'\n",
    "download_url(url=urls[0],dest=destination, show_progress=True)\n",
    "\n",
    "from fastai.vision.all import *\n",
    "image = Image.open(destination)\n",
    "image.to_thumb(256,256)\n",
    "\n",
    "\n"
   ]
  },
  {
   "cell_type": "markdown",
   "metadata": {},
   "source": []
  }
 ],
 "metadata": {
  "kernelspec": {
   "display_name": "venv",
   "language": "python",
   "name": "python3"
  },
  "language_info": {
   "codemirror_mode": {
    "name": "ipython",
    "version": 3
   },
   "file_extension": ".py",
   "mimetype": "text/x-python",
   "name": "python",
   "nbconvert_exporter": "python",
   "pygments_lexer": "ipython3",
   "version": "3.11.7"
  }
 },
 "nbformat": 4,
 "nbformat_minor": 2
}
